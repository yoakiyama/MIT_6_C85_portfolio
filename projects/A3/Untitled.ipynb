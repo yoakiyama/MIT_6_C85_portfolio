{
 "cells": [
  {
   "cell_type": "code",
   "execution_count": 7,
   "metadata": {},
   "outputs": [],
   "source": [
    "import pandas as pd\n",
    "import matplotlib.pyplot as plt\n",
    "import numpy as np"
   ]
  },
  {
   "cell_type": "code",
   "execution_count": 2,
   "metadata": {},
   "outputs": [],
   "source": [
    "df = pd.read_csv(\"census2000.norm.csv\")"
   ]
  },
  {
   "cell_type": "code",
   "execution_count": 25,
   "metadata": {},
   "outputs": [
    {
     "data": {
      "text/plain": [
       "1     50\n",
       "3     50\n",
       "5     50\n",
       "7     50\n",
       "9     50\n",
       "11    49\n",
       "13    48\n",
       "15    47\n",
       "17    47\n",
       "19    47\n",
       "21    47\n",
       "23    48\n",
       "25    49\n",
       "27    49\n",
       "29    49\n",
       "31    50\n",
       "33    51\n",
       "35    52\n",
       "37    57\n",
       "Name: People, dtype: int64"
      ]
     },
     "execution_count": 25,
     "metadata": {},
     "output_type": "execute_result"
    }
   ],
   "source": [
    "df[(df['Year']==1900) & (df['Sex']==2)]['People'].map(lambda x: round(100*x))"
   ]
  },
  {
   "cell_type": "code",
   "execution_count": 28,
   "metadata": {},
   "outputs": [
    {
     "data": {
      "text/plain": [
       "(0.0, 90.0)"
      ]
     },
     "execution_count": 28,
     "metadata": {},
     "output_type": "execute_result"
    },
    {
     "data": {
      "image/png": "[encoded data removed]",
      "text/plain": [
       "<Figure size 1152x720 with 1 Axes>"
      ]
     },
     "metadata": {
      "needs_background": "light"
     },
     "output_type": "display_data"
    }
   ],
   "source": [
    "f, ax = plt.subplots(1, 1, figsize=(16,10))\n",
    "ax.bar(np.arange(0, 95, 5), \n",
    "       df[(df['Year']==1900) & (df['Sex']==2)]['People'].map(lambda x: round(100*x)), \n",
    "       align='center', width=5, alpha=0.3)\n",
    "ax.bar(np.arange(0, 95, 5), \n",
    "       df[(df['Year']==2000) & (df['Sex']==2)]['People'].map(lambda x: round(100*x)), \n",
    "       align='center', width=5, alpha=0.3)\n",
    "ax.set_ylim(0, 100)\n",
    "ax.set_xlim(0, 90)"
   ]
  },
  {
   "cell_type": "code",
   "execution_count": 6,
   "metadata": {},
   "outputs": [
    {
     "data": {
      "text/html": [
       "<div>\n",
       "<style scoped>\n",
       "    .dataframe tbody tr th:only-of-type {\n",
       "        vertical-align: middle;\n",
       "    }\n",
       "\n",
       "    .dataframe tbody tr th {\n",
       "        vertical-align: top;\n",
       "    }\n",
       "\n",
       "    .dataframe thead th {\n",
       "        text-align: right;\n",
       "    }\n",
       "</style>\n",
       "<table border=\"1\" class=\"dataframe\">\n",
       "  <thead>\n",
       "    <tr style=\"text-align: right;\">\n",
       "      <th></th>\n",
       "      <th>Sex</th>\n",
       "      <th>Year</th>\n",
       "      <th>Age</th>\n",
       "      <th>People</th>\n",
       "    </tr>\n",
       "  </thead>\n",
       "  <tbody>\n",
       "    <tr>\n",
       "      <th>0</th>\n",
       "      <td>1</td>\n",
       "      <td>1900</td>\n",
       "      <td>0</td>\n",
       "      <td>0.501648</td>\n",
       "    </tr>\n",
       "    <tr>\n",
       "      <th>1</th>\n",
       "      <td>2</td>\n",
       "      <td>1900</td>\n",
       "      <td>0</td>\n",
       "      <td>0.498352</td>\n",
       "    </tr>\n",
       "    <tr>\n",
       "      <th>2</th>\n",
       "      <td>1</td>\n",
       "      <td>1900</td>\n",
       "      <td>5</td>\n",
       "      <td>0.504251</td>\n",
       "    </tr>\n",
       "    <tr>\n",
       "      <th>3</th>\n",
       "      <td>2</td>\n",
       "      <td>1900</td>\n",
       "      <td>5</td>\n",
       "      <td>0.495749</td>\n",
       "    </tr>\n",
       "    <tr>\n",
       "      <th>4</th>\n",
       "      <td>1</td>\n",
       "      <td>1900</td>\n",
       "      <td>10</td>\n",
       "      <td>0.503469</td>\n",
       "    </tr>\n",
       "    <tr>\n",
       "      <th>...</th>\n",
       "      <td>...</td>\n",
       "      <td>...</td>\n",
       "      <td>...</td>\n",
       "      <td>...</td>\n",
       "    </tr>\n",
       "    <tr>\n",
       "      <th>71</th>\n",
       "      <td>2</td>\n",
       "      <td>2000</td>\n",
       "      <td>80</td>\n",
       "      <td>0.628720</td>\n",
       "    </tr>\n",
       "    <tr>\n",
       "      <th>72</th>\n",
       "      <td>1</td>\n",
       "      <td>2000</td>\n",
       "      <td>85</td>\n",
       "      <td>0.328766</td>\n",
       "    </tr>\n",
       "    <tr>\n",
       "      <th>73</th>\n",
       "      <td>2</td>\n",
       "      <td>2000</td>\n",
       "      <td>85</td>\n",
       "      <td>0.671234</td>\n",
       "    </tr>\n",
       "    <tr>\n",
       "      <th>74</th>\n",
       "      <td>1</td>\n",
       "      <td>2000</td>\n",
       "      <td>90</td>\n",
       "      <td>0.240065</td>\n",
       "    </tr>\n",
       "    <tr>\n",
       "      <th>75</th>\n",
       "      <td>2</td>\n",
       "      <td>2000</td>\n",
       "      <td>90</td>\n",
       "      <td>0.759935</td>\n",
       "    </tr>\n",
       "  </tbody>\n",
       "</table>\n",
       "<p>76 rows × 4 columns</p>\n",
       "</div>"
      ],
      "text/plain": [
       "    Sex  Year  Age    People\n",
       "0     1  1900    0  0.501648\n",
       "1     2  1900    0  0.498352\n",
       "2     1  1900    5  0.504251\n",
       "3     2  1900    5  0.495749\n",
       "4     1  1900   10  0.503469\n",
       "..  ...   ...  ...       ...\n",
       "71    2  2000   80  0.628720\n",
       "72    1  2000   85  0.328766\n",
       "73    2  2000   85  0.671234\n",
       "74    1  2000   90  0.240065\n",
       "75    2  2000   90  0.759935\n",
       "\n",
       "[76 rows x 4 columns]"
      ]
     },
     "execution_count": 6,
     "metadata": {},
     "output_type": "execute_result"
    }
   ],
   "source": [
    "df"
   ]
  },
  {
   "cell_type": "code",
   "execution_count": null,
   "metadata": {},
   "outputs": [],
   "source": []
  }
 ],
 "metadata": {
  "kernelspec": {
   "display_name": "Python 3",
   "language": "python",
   "name": "python3"
  },
  "language_info": {
   "codemirror_mode": {
    "name": "ipython",
    "version": 3
   },
   "file_extension": ".py",
   "mimetype": "text/x-python",
   "name": "python",
   "nbconvert_exporter": "python",
   "pygments_lexer": "ipython3",
   "version": "3.8.5"
  }
 },
 "nbformat": 4,
 "nbformat_minor": 4
}
